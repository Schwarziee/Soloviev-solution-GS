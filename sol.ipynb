{
 "cells": [
  {
   "cell_type": "code",
   "execution_count": 1,
   "metadata": {},
   "outputs": [
    {
     "data": {
      "application/vnd.jupyter.widget-view+json": {
       "model_id": "276db5b7815942388c030a751f9103d5",
       "version_major": 2,
       "version_minor": 0
      },
      "text/plain": [
       "interactive(children=(FloatSlider(value=0.33, description='e', max=1.0, min=0.1, step=0.01), FloatSlider(value…"
      ]
     },
     "metadata": {},
     "output_type": "display_data"
    },
    {
     "data": {
      "text/plain": [
       "<function __main__.update(e=0.33, tau=0, sigma=1)>"
      ]
     },
     "execution_count": 1,
     "metadata": {},
     "output_type": "execute_result"
    }
   ],
   "source": [
    "import numpy as np\n",
    "import matplotlib.pyplot as plt\n",
    "from ipywidgets import interact, FloatSlider\n",
    "\n",
    "# Define the range for x and y\n",
    "x = np.linspace(-1.5, 1.5, 100)\n",
    "y = np.linspace(-1.5, 1.5, 100)\n",
    "\n",
    "inite = 0.33\n",
    "initau = 0\n",
    "initsigma = 1\n",
    "z0=10\n",
    "\n",
    "# Create a meshgrid for x and y\n",
    "x, y = np.meshgrid(x, y)\n",
    "\n",
    "# Function to calculate psi2(x, y) with parameters as variables\n",
    "def psi2(x, y, e, tau, sigma):\n",
    "    return (x - (e / 2) * (1 - x**2))**2 + (1 - (e**2 / 4)) * (1 + tau * e * x * (2 + e * x)) * (y**2 / sigma**2)\n",
    "\n",
    "# Function to calculate Delta\n",
    "def delta(epsilon):\n",
    "    return (1 / epsilon) * (np.sqrt(1 + epsilon**2) - 1)\n",
    "\n",
    "# Function to update the plot based on slider values\n",
    "def update(e=inite, tau=initau, sigma=initsigma):\n",
    "    plt.clf()  # Clear previous plot\n",
    "    \n",
    "    # Calculate the function psi2(x, y)\n",
    "    z = psi2(x, y, e, tau, sigma)\n",
    "    \n",
    "    # Plot contour\n",
    "    plt.contour(x, y, z, levels=np.linspace(0, 1, z0), colors='black')\n",
    "    \n",
    "    # Calculate Delta\n",
    "    delta_val = delta(e)\n",
    "    \n",
    "    # Plot marker for Delta\n",
    "    plt.plot(delta_val, 0, marker='+', color='black', markersize=10)\n",
    "    \n",
    "    plt.gca().set_aspect('equal')  # Set equal aspect ratio\n",
    "    plt.xlabel('x')\n",
    "    plt.ylabel('y')\n",
    "    plt.title('Contour plot of psi2(x, y)')\n",
    "    plt.grid(False)\n",
    "    plt.show()\n",
    "\n",
    "# Create interactive sliders for parameters\n",
    "interact(update, e=FloatSlider(min=0.1, max=1.0, step=0.01, value=inite),\n",
    "               tau=FloatSlider(min=-1.0, max=3.0, step=0.1, value=initau),\n",
    "               sigma=FloatSlider(min=0.1, max=2.0, step=0.1, value=initsigma))\n"
   ]
  }
 ],
 "metadata": {
  "kernelspec": {
   "display_name": "Python 3",
   "language": "python",
   "name": "python3"
  },
  "language_info": {
   "codemirror_mode": {
    "name": "ipython",
    "version": 3
   },
   "file_extension": ".py",
   "mimetype": "text/x-python",
   "name": "python",
   "nbconvert_exporter": "python",
   "pygments_lexer": "ipython3",
   "version": "3.9.2"
  }
 },
 "nbformat": 4,
 "nbformat_minor": 2
}
