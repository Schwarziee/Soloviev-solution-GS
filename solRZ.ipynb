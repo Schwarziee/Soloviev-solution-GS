{
 "cells": [
  {
   "cell_type": "code",
   "execution_count": 26,
   "metadata": {},
   "outputs": [
    {
     "data": {
      "application/vnd.jupyter.widget-view+json": {
       "model_id": "65705a50a0e7493fa7268a17cb521678",
       "version_major": 2,
       "version_minor": 0
      },
      "text/plain": [
       "interactive(children=(FloatSlider(value=0.5, description='e', max=1.0, min=0.1, step=0.01), FloatSlider(value=…"
      ]
     },
     "metadata": {},
     "output_type": "display_data"
    },
    {
     "data": {
      "text/plain": [
       "<function __main__.update(e=0.5, tau=0.9, sigma=1.5)>"
      ]
     },
     "execution_count": 26,
     "metadata": {},
     "output_type": "execute_result"
    }
   ],
   "source": [
    "import numpy as np\n",
    "import matplotlib.pyplot as plt\n",
    "from ipywidgets import interact, FloatSlider\n",
    "\n",
    "# Define the range for R and Z\n",
    "R_range = np.linspace(0, 2, 100)\n",
    "Z_range = np.linspace(-1, 1, 100)\n",
    "\n",
    "inite = 0.5\n",
    "initau = 0.9\n",
    "initsigma = 1.5\n",
    "z0 = 10\n",
    "\n",
    "# Create a meshgrid for R and Z\n",
    "R, Z = np.meshgrid(R_range, Z_range)\n",
    "\n",
    "# Function to calculate psi2(R, Z) with parameters as variables\n",
    "def psi2(R, Z, e, tau, sigma):\n",
    "    x = (R - 1)/(1 *e)  # Convert back to x\n",
    "    y = Z/(1*e)        # Convert back to y\n",
    "    return (x - (e / 2) * (1 - x**2))**2 + (1 - (e**2 / 4)) * (1 + tau * e * x * (2 + e * x)) * (y**2 / sigma**2)\n",
    "\n",
    "# Function to calculate Delta\n",
    "def delta(epsilon):\n",
    "    return (1 / epsilon) * (np.sqrt(1 + epsilon**2) - 1)\n",
    "\n",
    "# Function to update the plot based on slider values\n",
    "def update(e=inite, tau=initau, sigma=initsigma):\n",
    "    plt.clf()  # Clear previous plot\n",
    "    \n",
    "    # Calculate the function psi2(R, Z)\n",
    "    z = psi2(R, Z, e, tau, sigma)\n",
    "    \n",
    "    # Plot contour\n",
    "    plt.contour(R, Z, z, levels=np.linspace(0, 1, z0), colors='black')\n",
    "    \n",
    "    # Calculate Delta\n",
    "    delta_val = (delta(e)) \n",
    "    \n",
    "    # Plot marker for Delta\n",
    "    #plt.plot(delta_val, 0, marker='+', color='black', markersize=10)\n",
    "    \n",
    "    plt.gca().set_aspect('equal')  # Set equal aspect ratio\n",
    "    plt.xlabel('R')\n",
    "    plt.ylabel('Z')\n",
    "    plt.title('Contour plot of psi2(R, Z)')\n",
    "    plt.grid(False)\n",
    "    plt.show()\n",
    "\n",
    "# Create interactive sliders for parameters\n",
    "interact(update, e=FloatSlider(min=0.1, max=1.0, step=0.01, value=inite),\n",
    "               tau=FloatSlider(min=-1.0, max=3.0, step=0.1, value=initau),\n",
    "               sigma=FloatSlider(min=0.1, max=2.0, step=0.1, value=initsigma))\n"
   ]
  }
 ],
 "metadata": {
  "kernelspec": {
   "display_name": "Python 3",
   "language": "python",
   "name": "python3"
  },
  "language_info": {
   "codemirror_mode": {
    "name": "ipython",
    "version": 3
   },
   "file_extension": ".py",
   "mimetype": "text/x-python",
   "name": "python",
   "nbconvert_exporter": "python",
   "pygments_lexer": "ipython3",
   "version": "3.9.2"
  }
 },
 "nbformat": 4,
 "nbformat_minor": 2
}
